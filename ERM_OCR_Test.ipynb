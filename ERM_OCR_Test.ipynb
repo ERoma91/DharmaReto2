{
 "cells": [
  {
   "cell_type": "markdown",
   "source": [
    "\n",
    "# Title: [Project/Module Name]: [Brief Description]\n",
    "### Author: [Your Name]\n",
    "### Date: [Date of Creation/Last Update]\n",
    "### Template: [v1.0 | 04142023 - First Release]\n",
    "### Description: [Detailed description of the project/module]\n",
    "---"
   ],
   "metadata": {
    "collapsed": false
   }
  },
  {
   "cell_type": "markdown",
   "source": [
    "\n",
    "# [PIP] Python Installation Packages"
   ],
   "metadata": {
    "collapsed": false
   }
  },
  {
   "cell_type": "code",
   "execution_count": 5,
   "outputs": [
    {
     "name": "stdout",
     "output_type": "stream",
     "text": [
      "Requirement already satisfied: pillow in c:\\users\\erodr\\anaconda3\\envs\\unir_p3_816_02272023\\lib\\site-packages (9.4.0)\n"
     ]
    }
   ],
   "source": [
    "#TODO - Add below all the PIPs necessaries in the project\n",
    "\n",
    "#TODO - Remove '#' in front of the \"PIP\" lines to install the package or leave as is if already installed\n",
    "\n",
    "#!pip install --upgrade azure-cognitiveservices-vision-computervision\n",
    "\n",
    "#The Python Imaging Library adds image processing capabilities to your Python interpreter\n",
    "#!pip install pillow"
   ],
   "metadata": {
    "collapsed": false
   }
  },
  {
   "cell_type": "markdown",
   "source": [
    "\n",
    "# [ISL] Import Standard Libraries"
   ],
   "metadata": {
    "collapsed": false
   }
  },
  {
   "cell_type": "code",
   "execution_count": 7,
   "outputs": [],
   "source": [
    "#TODO [OPTIONAL] Remove if not used\n",
    "#TODO Add standard import lines\n",
    "\n",
    "import os\n",
    "import sys\n",
    "import time"
   ],
   "metadata": {
    "collapsed": false
   }
  },
  {
   "cell_type": "markdown",
   "source": [
    "\n",
    "# [IT-PL] Import Third-Party Libraries"
   ],
   "metadata": {
    "collapsed": false
   }
  },
  {
   "cell_type": "code",
   "execution_count": 9,
   "outputs": [
    {
     "name": "stdout",
     "output_type": "stream",
     "text": [
      "===== Read File - remote =====\n"
     ]
    },
    {
     "ename": "ComputerVisionOcrErrorException",
     "evalue": "Operation returned an invalid status code 'Bad Request'",
     "output_type": "error",
     "traceback": [
      "\u001B[1;31m---------------------------------------------------------------------------\u001B[0m",
      "\u001B[1;31mComputerVisionOcrErrorException\u001B[0m           Traceback (most recent call last)",
      "Cell \u001B[1;32mIn[9], line 34\u001B[0m\n\u001B[0;32m     32\u001B[0m read_image_url \u001B[38;5;241m=\u001B[39m \u001B[38;5;124m\"\u001B[39m\u001B[38;5;124mERM_OCR_Test.jpeg\u001B[39m\u001B[38;5;124m\"\u001B[39m\n\u001B[0;32m     33\u001B[0m \u001B[38;5;66;03m# Call API with URL and raw response (allows you to get the operation location)\u001B[39;00m\n\u001B[1;32m---> 34\u001B[0m read_response \u001B[38;5;241m=\u001B[39m \u001B[43mcomputervision_client\u001B[49m\u001B[38;5;241;43m.\u001B[39;49m\u001B[43mread\u001B[49m\u001B[43m(\u001B[49m\u001B[43mread_image_url\u001B[49m\u001B[43m,\u001B[49m\u001B[43m  \u001B[49m\u001B[43mraw\u001B[49m\u001B[38;5;241;43m=\u001B[39;49m\u001B[38;5;28;43;01mTrue\u001B[39;49;00m\u001B[43m)\u001B[49m\n\u001B[0;32m     36\u001B[0m \u001B[38;5;66;03m# Get the operation location (URL with an ID at the end) from the response\u001B[39;00m\n\u001B[0;32m     37\u001B[0m read_operation_location \u001B[38;5;241m=\u001B[39m read_response\u001B[38;5;241m.\u001B[39mheaders[\u001B[38;5;124m\"\u001B[39m\u001B[38;5;124mOperation-Location\u001B[39m\u001B[38;5;124m\"\u001B[39m]\n",
      "File \u001B[1;32m~\\anaconda3\\envs\\UNIR_P3_816_02272023\\lib\\site-packages\\azure\\cognitiveservices\\vision\\computervision\\operations\\_computer_vision_client_operations.py:848\u001B[0m, in \u001B[0;36mComputerVisionClientOperationsMixin.read\u001B[1;34m(self, url, language, pages, model_version, reading_order, custom_headers, raw, **operation_config)\u001B[0m\n\u001B[0;32m    845\u001B[0m response \u001B[38;5;241m=\u001B[39m \u001B[38;5;28mself\u001B[39m\u001B[38;5;241m.\u001B[39m_client\u001B[38;5;241m.\u001B[39msend(request, stream\u001B[38;5;241m=\u001B[39m\u001B[38;5;28;01mFalse\u001B[39;00m, \u001B[38;5;241m*\u001B[39m\u001B[38;5;241m*\u001B[39moperation_config)\n\u001B[0;32m    847\u001B[0m \u001B[38;5;28;01mif\u001B[39;00m response\u001B[38;5;241m.\u001B[39mstatus_code \u001B[38;5;129;01mnot\u001B[39;00m \u001B[38;5;129;01min\u001B[39;00m [\u001B[38;5;241m202\u001B[39m]:\n\u001B[1;32m--> 848\u001B[0m     \u001B[38;5;28;01mraise\u001B[39;00m models\u001B[38;5;241m.\u001B[39mComputerVisionOcrErrorException(\u001B[38;5;28mself\u001B[39m\u001B[38;5;241m.\u001B[39m_deserialize, response)\n\u001B[0;32m    850\u001B[0m \u001B[38;5;28;01mif\u001B[39;00m raw:\n\u001B[0;32m    851\u001B[0m     client_raw_response \u001B[38;5;241m=\u001B[39m ClientRawResponse(\u001B[38;5;28;01mNone\u001B[39;00m, response)\n",
      "\u001B[1;31mComputerVisionOcrErrorException\u001B[0m: Operation returned an invalid status code 'Bad Request'"
     ]
    }
   ],
   "source": [
    "#TODO Add Third-Party import lines\n",
    "\n",
    "from azure.cognitiveservices.vision.computervision import ComputerVisionClient\n",
    "from azure.cognitiveservices.vision.computervision.models import OperationStatusCodes\n",
    "from azure.cognitiveservices.vision.computervision.models import VisualFeatureTypes\n",
    "from msrest.authentication import CognitiveServicesCredentials\n",
    "\n",
    "from array import array\n",
    "from PIL import Image\n",
    "\n",
    "\n",
    "'''\n",
    "Authenticate\n",
    "Authenticates your credentials and creates a client.\n",
    "'''\n",
    "subscription_key = \"ef30946ea155471e9dfb7bae6318b2ff\"\n",
    "endpoint = \"https://r-reto2.cognitiveservices.azure.com/\"\n",
    "\n",
    "computervision_client = ComputerVisionClient(endpoint, CognitiveServicesCredentials(subscription_key))\n",
    "'''\n",
    "END - Authenticate\n",
    "'''\n",
    "\n",
    "'''\n",
    "OCR: Read File using the Read API, extract text - remote\n",
    "This example will extract text in an image, then print results, line by line.\n",
    "This API call can also extract handwriting style text (not shown).\n",
    "'''\n",
    "print(\"===== Read File - remote =====\")\n",
    "# Get an image with text\n",
    "read_image_url = \"https://raw.githubusercontent.com/MicrosoftDocs/azure-docs/master/articles/cognitive-services/Computer-vision/Images/readsample.jpg\"\n",
    "#read_image_url = \"ERM_OCR_Test.jpeg\"\n",
    "# Call API with URL and raw response (allows you to get the operation location)\n",
    "read_response = computervision_client.read(read_image_url,  raw=True)\n",
    "\n",
    "# Get the operation location (URL with an ID at the end) from the response\n",
    "read_operation_location = read_response.headers[\"Operation-Location\"]\n",
    "# Grab the ID from the URL\n",
    "operation_id = read_operation_location.split(\"/\")[-1]\n",
    "\n",
    "# Call the \"GET\" API and wait for it to retrieve the results\n",
    "while True:\n",
    "    read_result = computervision_client.get_read_result(operation_id)\n",
    "    if read_result.status not in ['notStarted', 'running']:\n",
    "        break\n",
    "    time.sleep(1)\n",
    "\n",
    "# Print the detected text, line by line\n",
    "if read_result.status == OperationStatusCodes.succeeded:\n",
    "    for text_result in read_result.analyze_result.read_results:\n",
    "        for line in text_result.lines:\n",
    "            print(line.text)\n",
    "            print(line.bounding_box)\n",
    "print()\n",
    "'''\n",
    "END - Read File - remote\n",
    "'''\n",
    "\n",
    "print(\"End of Computer Vision quickstart.\")"
   ],
   "metadata": {
    "collapsed": false
   }
  },
  {
   "cell_type": "markdown",
   "source": [
    "\n",
    "# [T-LI] TEST Library Imports"
   ],
   "metadata": {
    "collapsed": false
   }
  },
  {
   "cell_type": "code",
   "execution_count": 3,
   "outputs": [],
   "source": [
    "#TODO Remove if not used or before to release version"
   ],
   "metadata": {
    "collapsed": false
   }
  },
  {
   "cell_type": "markdown",
   "source": [
    "\n",
    "# [IIM] Import internal modules"
   ],
   "metadata": {
    "collapsed": false
   }
  },
  {
   "cell_type": "code",
   "execution_count": 3,
   "outputs": [],
   "source": [
    "#TODO Remove if not used or before to release version"
   ],
   "metadata": {
    "collapsed": false
   }
  },
  {
   "cell_type": "markdown",
   "source": [
    "\n",
    "# [DGC] Define Global Constants"
   ],
   "metadata": {
    "collapsed": false
   }
  },
  {
   "cell_type": "code",
   "execution_count": 3,
   "outputs": [],
   "source": [
    "#TODO [OPTIONAL Remove if not used]"
   ],
   "metadata": {
    "collapsed": false
   }
  },
  {
   "cell_type": "markdown",
   "source": [
    "\n",
    "# [DGV] Define Global Variables"
   ],
   "metadata": {
    "collapsed": false
   }
  },
  {
   "cell_type": "code",
   "execution_count": 3,
   "outputs": [],
   "source": [
    "#TODO [OPTIONAL Remove if not used]"
   ],
   "metadata": {
    "collapsed": false
   }
  },
  {
   "cell_type": "markdown",
   "source": [
    "\n",
    "# [FNC] Functions\n",
    "\n",
    "def function2(arg1, arg2):\n",
    "    \"\"\"\n",
    "    Function description.\n",
    "\n",
    "    Args:\n",
    "        arg1 (type): Description of arg1.\n",
    "        arg2 (type): Description of arg2.\n",
    "\n",
    "    Returns:\n",
    "        type: Description of the return value.\n",
    "    \"\"\"\n",
    "    # Function logic\n",
    "    return result"
   ],
   "metadata": {
    "collapsed": false
   }
  },
  {
   "cell_type": "code",
   "execution_count": 3,
   "outputs": [],
   "source": [],
   "metadata": {
    "collapsed": false
   }
  },
  {
   "cell_type": "markdown",
   "source": [
    "\n",
    "# [T-FNC] TEST Functions"
   ],
   "metadata": {
    "collapsed": false
   }
  },
  {
   "cell_type": "code",
   "execution_count": 3,
   "outputs": [],
   "source": [
    "#TODO [MUST be Removed before to release version]"
   ],
   "metadata": {
    "collapsed": false
   }
  },
  {
   "cell_type": "markdown",
   "source": [
    "\n",
    "# [C] Classes\n",
    "\n",
    "class MyClass:\n",
    "    \"\"\"\n",
    "    Class description.\n",
    "    \"\"\"\n",
    "    def __init__(self, arg1, arg2):\n",
    "        \"\"\"\n",
    "        Class constructor.\n",
    "\n",
    "        Args:\n",
    "            arg1 (type): Description of arg1.\n",
    "            arg2 (type): Description of arg2.\n",
    "        \"\"\"\n",
    "        self.arg1 = arg1\n",
    "        self.arg2 = arg2\n",
    "\n",
    "    def method1(self):\n",
    "        \"\"\"\n",
    "        Method description.\n",
    "        \"\"\"\n",
    "        # Method logic\n",
    "\n",
    "    def method2(self):\n",
    "        \"\"\"\n",
    "        Method description.\n",
    "        \"\"\"\n",
    "        # Method logic\n"
   ],
   "metadata": {
    "collapsed": false
   }
  },
  {
   "cell_type": "code",
   "execution_count": 3,
   "outputs": [],
   "source": [],
   "metadata": {
    "collapsed": false
   }
  },
  {
   "cell_type": "markdown",
   "source": [
    "\n",
    "# [TC] TEST Classes"
   ],
   "metadata": {
    "collapsed": false
   }
  },
  {
   "cell_type": "code",
   "execution_count": 3,
   "outputs": [],
   "source": [],
   "metadata": {
    "collapsed": false
   }
  },
  {
   "cell_type": "markdown",
   "source": [
    "\n",
    "# [PF] Program Flow"
   ],
   "metadata": {
    "collapsed": false
   }
  },
  {
   "cell_type": "code",
   "execution_count": 3,
   "outputs": [],
   "source": [],
   "metadata": {
    "collapsed": false
   }
  },
  {
   "cell_type": "markdown",
   "source": [
    "\n",
    "# [TPF] Test Program Flow"
   ],
   "metadata": {
    "collapsed": false
   }
  },
  {
   "cell_type": "code",
   "execution_count": 3,
   "outputs": [],
   "source": [],
   "metadata": {
    "collapsed": false
   }
  }
 ],
 "metadata": {
  "kernelspec": {
   "display_name": "Python 3",
   "language": "python",
   "name": "python3"
  },
  "language_info": {
   "codemirror_mode": {
    "name": "ipython",
    "version": 2
   },
   "file_extension": ".py",
   "mimetype": "text/x-python",
   "name": "python",
   "nbconvert_exporter": "python",
   "pygments_lexer": "ipython2",
   "version": "2.7.6"
  }
 },
 "nbformat": 4,
 "nbformat_minor": 0
}
